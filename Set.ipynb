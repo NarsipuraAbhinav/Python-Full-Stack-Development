{
  "nbformat": 4,
  "nbformat_minor": 0,
  "metadata": {
    "colab": {
      "name": "Set.ipynb",
      "provenance": [],
      "authorship_tag": "ABX9TyMkD5m23tzdt41jG1atpPKT",
      "include_colab_link": true
    },
    "kernelspec": {
      "name": "python3",
      "display_name": "Python 3"
    },
    "language_info": {
      "name": "python"
    }
  },
  "cells": [
    {
      "cell_type": "markdown",
      "metadata": {
        "id": "view-in-github",
        "colab_type": "text"
      },
      "source": [
        "<a href=\"https://colab.research.google.com/github/NarsipuraAbhinav/Python-Full-Stack-Development/blob/main/Set.ipynb\" target=\"_parent\"><img src=\"https://colab.research.google.com/assets/colab-badge.svg\" alt=\"Open In Colab\"/></a>"
      ]
    },
    {
      "cell_type": "code",
      "execution_count": 1,
      "metadata": {
        "colab": {
          "base_uri": "https://localhost:8080/"
        },
        "id": "_9QDenv_E6vt",
        "outputId": "39139922-16dc-4b40-a797-f8e871dbfdb9"
      },
      "outputs": [
        {
          "output_type": "stream",
          "name": "stdout",
          "text": [
            "set()\n",
            "{9, 12}\n"
          ]
        }
      ],
      "source": [
        "my_set=set()\n",
        "print(my_set)\n",
        "my_set.update([9,12])\n",
        "print(my_set)"
      ]
    },
    {
      "cell_type": "code",
      "source": [
        "my_set.update((3,5))\n",
        "print(my_set)"
      ],
      "metadata": {
        "colab": {
          "base_uri": "https://localhost:8080/"
        },
        "id": "p1M7vGZaGr_c",
        "outputId": "819e249a-aff4-4af4-dd12-4a69866c5070"
      },
      "execution_count": 2,
      "outputs": [
        {
          "output_type": "stream",
          "name": "stdout",
          "text": [
            "{9, 3, 12, 5}\n"
          ]
        }
      ]
    },
    {
      "cell_type": "code",
      "source": [
        "my_set.update(\"KLH\")\n",
        "print(my_set)"
      ],
      "metadata": {
        "colab": {
          "base_uri": "https://localhost:8080/"
        },
        "id": "-vOELY9OG1HX",
        "outputId": "693c682f-345b-4d5c-f572-48988fe57740"
      },
      "execution_count": 4,
      "outputs": [
        {
          "output_type": "stream",
          "name": "stdout",
          "text": [
            "{3, 5, 9, 'H', 12, 'L', 'K'}\n"
          ]
        }
      ]
    },
    {
      "cell_type": "code",
      "source": [
        "my_set.update(\"HIGH\",\"TECH\")\n",
        "print(my_set)"
      ],
      "metadata": {
        "colab": {
          "base_uri": "https://localhost:8080/"
        },
        "id": "0YSuhWmrG9A7",
        "outputId": "0eb855f5-2c56-4526-e0d4-01d7d8454827"
      },
      "execution_count": 5,
      "outputs": [
        {
          "output_type": "stream",
          "name": "stdout",
          "text": [
            "{3, 5, 'I', 9, 'T', 'H', 12, 'C', 'G', 'E', 'L', 'K'}\n"
          ]
        }
      ]
    }
  ]
}